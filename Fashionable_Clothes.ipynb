{
  "nbformat": 4,
  "nbformat_minor": 0,
  "metadata": {
    "colab": {
      "provenance": [],
      "private_outputs": true,
      "mount_file_id": "1RP8DaEdafnHDHhoTWXw6BfJdOMSrl-wD",
      "authorship_tag": "ABX9TyMtOdJM+CMl9amaaQlFcEtE",
      "include_colab_link": true
    },
    "kernelspec": {
      "name": "python3",
      "display_name": "Python 3"
    },
    "language_info": {
      "name": "python"
    },
    "accelerator": "TPU",
    "gpuClass": "standard"
  },
  "cells": [
    {
      "cell_type": "markdown",
      "metadata": {
        "id": "view-in-github",
        "colab_type": "text"
      },
      "source": [
        "<a href=\"https://colab.research.google.com/github/nazirumar/CNN-Projects-Deep-Learning/blob/main/Fashionable_Clothes.ipynb\" target=\"_parent\"><img src=\"https://colab.research.google.com/assets/colab-badge.svg\" alt=\"Open In Colab\"/></a>"
      ]
    },
    {
      "cell_type": "code",
      "execution_count": null,
      "metadata": {
        "id": "G19Lb6bWeQsl"
      },
      "outputs": [],
      "source": [
        "import tensorflow as tf\n",
        "import matplotlib.pyplot as plt\n",
        "import numpy as np\n",
        "import pandas as pd\n",
        "from keras.applications.vgg16 import VGG16\n",
        "from tensorflow.keras import layers, models\n",
        "from keras.applications.vgg16 import preprocess_input\n",
        "from keras.preprocessing import image\n",
        "%matplotlib inline"
      ]
    },
    {
      "cell_type": "markdown",
      "source": [
        "Load images From directory"
      ],
      "metadata": {
        "id": "mzrnc27FfnEv"
      }
    },
    {
      "cell_type": "code",
      "source": [
        "!unzip '/content/drive/MyDrive/DeepLearning/Fashionable Clothes.zip' -d '/content/drive/MyDrive/DeepLearning'"
      ],
      "metadata": {
        "id": "6gQcDiKDhg1W"
      },
      "execution_count": null,
      "outputs": []
    },
    {
      "cell_type": "code",
      "source": [
        "train = '/content/drive/MyDrive/DeepLearning/Data/train'\n",
        "test = '/content/drive/MyDrive/DeepLearning/Data/test'"
      ],
      "metadata": {
        "id": "AKeTPS2KfZkk"
      },
      "execution_count": null,
      "outputs": []
    },
    {
      "cell_type": "code",
      "source": [
        "batch_size = 32\n",
        "img_size = [80, 80]"
      ],
      "metadata": {
        "id": "f_hzZvPNg14M"
      },
      "execution_count": null,
      "outputs": []
    },
    {
      "cell_type": "code",
      "source": [
        "train_ds = tf.keras.utils.image_dataset_from_directory(\n",
        "  train,\n",
        "  validation_split=0.2,\n",
        "  subset=\"training\",\n",
        "  seed=123,\n",
        "  image_size=img_size,\n",
        "  batch_size=batch_size)"
      ],
      "metadata": {
        "id": "Ow2qp-3Bi00o"
      },
      "execution_count": null,
      "outputs": []
    },
    {
      "cell_type": "code",
      "source": [
        "valid_ds = tf.keras.utils.image_dataset_from_directory(\n",
        "  test,\n",
        "  validation_split=0.2,\n",
        "  subset=\"training\",\n",
        "  seed=123,\n",
        "  image_size=img_size,\n",
        "  batch_size=batch_size)"
      ],
      "metadata": {
        "id": "ncnV9RIZkA9d"
      },
      "execution_count": null,
      "outputs": []
    },
    {
      "cell_type": "code",
      "source": [
        "class_names = train_ds.class_names\n",
        "print(class_names)"
      ],
      "metadata": {
        "id": "k1k_2joUjMIE"
      },
      "execution_count": null,
      "outputs": []
    },
    {
      "cell_type": "code",
      "source": [
        "\n",
        "plt.figure(figsize=(10, 10))\n",
        "for images, labels in train_ds.take(1):\n",
        "  for i in range(9):\n",
        "    ax = plt.subplot(3, 3, i + 1)\n",
        "    plt.imshow(images[i].numpy().astype(\"uint8\"))\n",
        "    plt.title(class_names[labels[i]])\n",
        "    plt.axis(\"off\")"
      ],
      "metadata": {
        "id": "J73GQRlujGRi"
      },
      "execution_count": null,
      "outputs": []
    },
    {
      "cell_type": "code",
      "source": [
        "for image_batch, labels_batch in train_ds:\n",
        "  print(image_batch.shape)\n",
        "  print(labels_batch)\n",
        "  break"
      ],
      "metadata": {
        "id": "I1Kbm5muV8Tc"
      },
      "execution_count": null,
      "outputs": []
    },
    {
      "cell_type": "code",
      "source": [
        "normalization_layer = tf.keras.layers.Rescaling(1./255)"
      ],
      "metadata": {
        "id": "z8CsqcbnjwYD"
      },
      "execution_count": null,
      "outputs": []
    },
    {
      "cell_type": "code",
      "source": [
        "normalized_ds = train_ds.map(lambda x, y: (normalization_layer(x), y))\n",
        "image_batch, labels_batch = next(iter(normalized_ds))\n",
        "first_image = image_batch[0]\n",
        "# Notice the pixel values are now in `[0,1]`.\n",
        "print(np.min(first_image), np.max(first_image))"
      ],
      "metadata": {
        "id": "KYpUnx2GcF1C"
      },
      "execution_count": null,
      "outputs": []
    },
    {
      "cell_type": "code",
      "source": [
        "num_classes = 5"
      ],
      "metadata": {
        "id": "ElgFSpOCeSTL"
      },
      "execution_count": null,
      "outputs": []
    },
    {
      "cell_type": "code",
      "source": [
        "base_model = VGG16(weights=\"imagenet\", include_top=False, input_shape=img_size + [3])\n",
        "base_model.trainable = False"
      ],
      "metadata": {
        "id": "dZNivFQfie1z"
      },
      "execution_count": null,
      "outputs": []
    },
    {
      "cell_type": "code",
      "source": [
        "flatten_layer = layers.Flatten()\n",
        "dense_layer_1 = layers.Dense(50, activation='relu')\n",
        "dense_layer_2 = layers.Dense(20, activation='relu')\n",
        "prediction_layer = layers.Dense(num_classes, activation='softmax')"
      ],
      "metadata": {
        "id": "o6yuxe_FiLpa"
      },
      "execution_count": null,
      "outputs": []
    },
    {
      "cell_type": "code",
      "source": [
        "model = models.Sequential([\n",
        "    base_model,\n",
        "    flatten_layer,\n",
        "    dense_layer_1,\n",
        "    dense_layer_2,\n",
        "    prediction_layer\n",
        "])\n",
        "print(model.summary())"
      ],
      "metadata": {
        "id": "NWT1I62aeQmV"
      },
      "execution_count": null,
      "outputs": []
    },
    {
      "cell_type": "code",
      "source": [
        "model.compile(\n",
        "  optimizer='adam',\n",
        "  loss=tf.keras.losses.SparseCategoricalCrossentropy(from_logits=True),\n",
        "  metrics=['accuracy'])"
      ],
      "metadata": {
        "id": "NDAQWPSpg54Y"
      },
      "execution_count": null,
      "outputs": []
    },
    {
      "cell_type": "code",
      "source": [
        "history =model.fit(train_ds, epochs=50, validation_data=valid_ds, batch_size=32)\n"
      ],
      "metadata": {
        "id": "pmPInJilg61a"
      },
      "execution_count": null,
      "outputs": []
    },
    {
      "cell_type": "code",
      "source": [
        "model.save(\"FashionableClothes.h5\")"
      ],
      "metadata": {
        "id": "nvyoSKxcUbJR"
      },
      "execution_count": null,
      "outputs": []
    },
    {
      "cell_type": "code",
      "source": [
        "loss, accuracy = model.evaluate(valid_ds)\n",
        "# print(\"%s: %.2f%%\" % (model.metrics_names[1], scores[1]*100))\n",
        "\n",
        "print(\"Saved model to disk\")"
      ],
      "metadata": {
        "id": "U9Zyb5wrVfV_"
      },
      "execution_count": null,
      "outputs": []
    },
    {
      "cell_type": "code",
      "source": [
        "acc = history.history['accuracy']\n",
        "val_acc = history.history['val_accuracy']\n",
        "loss = history.history['loss']\n",
        "val_loss = history.history['val_loss']\n",
        "epochs = range(1, len(acc) + 1)\n",
        "plt.plot(epochs, acc, 'bo', label='Training acc')\n",
        "plt.plot(epochs, val_acc, 'b', label='Validation acc')\n",
        "plt.title('Training and validation accuracy')\n",
        "plt.legend()\n",
        "plt.figure()\n",
        "plt.plot(epochs, loss, 'bo', label='Training loss')\n",
        "plt.plot(epochs, val_loss, 'b', label='Validation loss')\n",
        "plt.title('Training and validation loss')\n",
        "plt.legend()\n",
        "plt.show()"
      ],
      "metadata": {
        "id": "_SQRcizcg7dp"
      },
      "execution_count": null,
      "outputs": []
    },
    {
      "cell_type": "code",
      "source": [
        "from PIL import Image"
      ],
      "metadata": {
        "id": "0bAHEa7rXSFm"
      },
      "execution_count": null,
      "outputs": []
    },
    {
      "cell_type": "code",
      "source": [
        "img_path = '/content/black-frolal-short-2546141045.jpg'\n",
        "image = tf.keras.preprocessing.image.load_img(img_path)\n",
        "input_arr = tf.keras.preprocessing.image.img_to_array(image)\n",
        "input_arr = np.array([input_arr]) # Convert single image to a batch.\n",
        "input_arr =  tf.image.resize(input_arr, size=img_size)\n",
        "predictions = model.predict(input_arr)\n",
        "print(class_names[int(predictions.argmax(axis=1))], round(predictions[0][0], 3))\n",
        "Image.open(img_path)\n"
      ],
      "metadata": {
        "id": "PLrOUg1KXPtm"
      },
      "execution_count": null,
      "outputs": []
    },
    {
      "cell_type": "code",
      "source": [
        "\n",
        "img_path = '/content/drive/MyDrive/DeepLearning/Data/train/MEN_Hood/213mGMGhDnS._AC_UL320_.jpg'\n",
        "image = tf.keras.preprocessing.image.load_img(img_path)\n",
        "input_arr = tf.keras.preprocessing.image.img_to_array(image)\n",
        "input_arr = np.array([input_arr]) # Convert single image to a batch.\n",
        "input_arr =  tf.image.resize(input_arr, size=img_size)\n",
        "predictions = model.predict(input_arr)\n",
        "print(class_names[int(predictions.argmax(axis=1))], round(predictions[0][0], 4))\n",
        "Image.open(img_path)"
      ],
      "metadata": {
        "id": "sxXzmKvDZP_l"
      },
      "execution_count": null,
      "outputs": []
    },
    {
      "cell_type": "code",
      "source": [
        "\n",
        "img_path = '/content/th-2284265390.jpg'\n",
        "image = tf.keras.preprocessing.image.load_img(img_path)\n",
        "input_arr = tf.keras.preprocessing.image.img_to_array(image)\n",
        "input_arr = np.array([input_arr]) # Convert single image to a batch.\n",
        "input_arr =  tf.image.resize(input_arr, size=img_size)\n",
        "predictions = model.predict(input_arr)\n",
        "print(class_names[int(predictions.argmax(axis=1))], round(predictions[0][0], 3))\n",
        "Image.open(img_path)"
      ],
      "metadata": {
        "id": "x7xcBM26XV8p"
      },
      "execution_count": null,
      "outputs": []
    },
    {
      "cell_type": "code",
      "source": [
        "\n",
        "\n",
        "img_path = '/content/drive/MyDrive/DeepLearning/Data/train/MEN_Coats/29058703_4pl.jpg'\n",
        "image = tf.keras.preprocessing.image.load_img(img_path)\n",
        "input_arr = tf.keras.preprocessing.image.img_to_array(image)\n",
        "input_arr = np.array([input_arr]) # Convert single image to a batch.\n",
        "input_arr =  tf.image.resize(input_arr, size=img_size)\n",
        "predictions = model.predict(input_arr)\n",
        "print(class_names[int(predictions.argmax(axis=1))], round(predictions[0][0], 2))\n",
        "Image.open(img_path)"
      ],
      "metadata": {
        "id": "d-TWyfFOd15F"
      },
      "execution_count": null,
      "outputs": []
    },
    {
      "cell_type": "code",
      "source": [
        "newModel = tf.keras.models.load_model('/content/FashionableClothes.h5')\n",
        "img_path = '/content/th-415205030.jpg'\n",
        "image = tf.keras.preprocessing.image.load_img(img_path)\n",
        "input_arr = tf.keras.preprocessing.image.img_to_array(image)\n",
        "input_arr = np.array([input_arr]) # Convert single image to a batch.\n",
        "input_arr =  tf.image.resize(input_arr, size=img_size)\n",
        "predictions = newModel.predict(input_arr)\n",
        "print(class_names[int(predictions.argmax(axis=1))], round(predictions[0][0], 3))\n",
        "Image.open(img_path)"
      ],
      "metadata": {
        "id": "HhzqkSLOeiS7"
      },
      "execution_count": null,
      "outputs": []
    },
    {
      "cell_type": "code",
      "source": [
        "newModel = tf.keras.models.load_model('/content/FashionableClothes.h5')\n",
        "img_path = '/content/th-3183172398.jpg'\n",
        "image = tf.keras.preprocessing.image.load_img(img_path)\n",
        "input_arr = tf.keras.preprocessing.image.img_to_array(image)\n",
        "input_arr = np.array([input_arr]) # Convert single image to a batch.\n",
        "input_arr =  tf.image.resize(input_arr, size=img_size)\n",
        "predictions = newModel.predict(input_arr)\n",
        "print(class_names[int(predictions.argmax(axis=1))], round(predictions[0][0], 3))\n",
        "Image.open(img_path)"
      ],
      "metadata": {
        "id": "Gp9munVdiiH5"
      },
      "execution_count": null,
      "outputs": []
    }
  ]
}